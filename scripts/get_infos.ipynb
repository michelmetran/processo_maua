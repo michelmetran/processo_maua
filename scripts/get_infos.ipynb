{
 "cells": [
  {
   "cell_type": "markdown",
   "metadata": {
    "pycharm": {
     "name": "#%% md\n"
    },
    "tags": [
     "remove_cell"
    ]
   },
   "source": [
    "<br>\n",
    "\n",
    "# Introdução\n"
   ]
  },
  {
   "cell_type": "code",
   "execution_count": null,
   "metadata": {
    "pycharm": {
     "name": "#%%\n"
    }
   },
   "outputs": [],
   "source": [
    "import time\n",
    "from bs4 import BeautifulSoup\n",
    "from dotenv import dotenv_values, find_dotenv\n"
   ]
  },
  {
   "cell_type": "code",
   "execution_count": null,
   "metadata": {
    "jupyter": {
     "outputs_hidden": false
    },
    "pycharm": {
     "name": "#%%\n"
    }
   },
   "outputs": [],
   "source": [
    "from selenium import webdriver\n",
    "from selenium.webdriver.common.by import By\n",
    "from selenium.webdriver.firefox.service import Service\n",
    "from selenium.webdriver.support.ui import WebDriverWait\n",
    "from selenium.webdriver.support import expected_conditions as EC\n",
    "from selenium.webdriver.firefox.options import Options as FirefoxOptions\n",
    "from webdriver_manager.firefox import GeckoDriverManager\n"
   ]
  },
  {
   "cell_type": "code",
   "execution_count": null,
   "metadata": {
    "jupyter": {
     "outputs_hidden": false
    },
    "pycharm": {
     "name": "#%%\n"
    }
   },
   "outputs": [],
   "source": [
    "from paths import *\n"
   ]
  },
  {
   "cell_type": "markdown",
   "metadata": {
    "pycharm": {
     "name": "#%% md\n"
    },
    "tags": [
     "remove_cell"
    ]
   },
   "source": [
    "<br>\n",
    "\n",
    "# Functions\n"
   ]
  },
  {
   "cell_type": "code",
   "execution_count": null,
   "metadata": {},
   "outputs": [],
   "source": [
    "class Driver():\n",
    "    # Conceito de Page Object Model (POM)\n",
    "    def __init__(self, headless, driver_path):\n",
    "        # Cria Driver\n",
    "        firefox_options = FirefoxOptions()\n",
    "        firefox_options.headless = headless\n",
    "        driver = webdriver.Firefox(\n",
    "            service=Service(\n",
    "                executable_path=GeckoDriverManager(path=driver_path).install(),\n",
    "                log_path=log_path / 'geckodriver.log',\n",
    "            ),\n",
    "            options=firefox_options,\n",
    "        )\n",
    "        self.driver = driver\n",
    "\n",
    "    def get_status(self, processo, ano, cpf):\n",
    "        # Get URL\n",
    "        url = 'https://e-gov.maua.sp.gov.br/grp/acessoexterno/programaAcessoExterno.faces?codigo=70043'\n",
    "        self.driver.get(url)\n",
    "\n",
    "        # Insere Ano\n",
    "        ex_field = WebDriverWait(self.driver, 5).until(EC.presence_of_element_located(\n",
    "            (By.XPATH, \"//*[@id='form:exercicio:field']\")))\n",
    "        ex_field.send_keys(ano)\n",
    "\n",
    "        # Insere Numero\n",
    "        n_field = WebDriverWait(self.driver, 5).until(EC.presence_of_element_located(\n",
    "            (By.XPATH, \"//*[@id='form:numero:field']\")))\n",
    "        n_field.send_keys(processo)\n",
    "\n",
    "        # Insere CPF\n",
    "        cpf_field = WebDriverWait(self.driver, 5).until(EC.presence_of_element_located(\n",
    "            (By.XPATH, \"//*[@id='form:nome:field']\")))\n",
    "        cpf_field.send_keys(cpf)\n",
    "\n",
    "        # Clica para Pesquisar\n",
    "        btn_field = WebDriverWait(self.driver, 5).until(EC.presence_of_element_located(\n",
    "            (By.XPATH, '//*[@id=\"form:j_id_3u:0:j_id_3y\"]')))\n",
    "        btn_field.click()\n",
    "        time.sleep(3)\n",
    "\n",
    "        # Get HTML\n",
    "        soup = BeautifulSoup(self.driver.page_source, features='html.parser')\n",
    "\n",
    "        # Get Results\n",
    "        results = soup.find('span', attrs={'id': 'form:resultado'})\n",
    "        results = results.get_text(separator='<b>').split('<b>')\n",
    "\n",
    "        # Fix for Print\n",
    "        for i in results:\n",
    "            print(i.strip())\n",
    "\n",
    "        # Close Driver\n",
    "        self.driver.quit()\n"
   ]
  },
  {
   "cell_type": "code",
   "execution_count": null,
   "metadata": {
    "jupyter": {
     "outputs_hidden": false
    },
    "pycharm": {
     "name": "#%%\n"
    },
    "tags": [
     "remove_cell"
    ]
   },
   "outputs": [],
   "source": [
    "#os.environ['WDM_SSL_VERIFY'] = '0'\n"
   ]
  },
  {
   "cell_type": "code",
   "execution_count": null,
   "metadata": {
    "jupyter": {
     "outputs_hidden": false
    },
    "pycharm": {
     "name": "#%%\n"
    },
    "tags": [
     "remove_cell"
    ]
   },
   "outputs": [],
   "source": [
    "driver = Driver(headless=True, driver_path=None)\n",
    "driver.get_status('6333', 2019, '97155632872')  # Rancho Ypê\n"
   ]
  },
  {
   "cell_type": "markdown",
   "metadata": {
    "pycharm": {
     "name": "#%% md\n"
    },
    "tags": [
     "remove_cell"
    ]
   },
   "source": [
    "<br>\n",
    "\n",
    "# Export\n"
   ]
  },
  {
   "cell_type": "code",
   "execution_count": null,
   "metadata": {
    "pycharm": {
     "name": "#%%\n"
    },
    "tags": [
     "remove_cell"
    ]
   },
   "outputs": [],
   "source": [
    "from traitlets.config import Config\n",
    "from nbconvert import PythonExporter\n",
    "from nbconvert.preprocessors import TagRemovePreprocessor\n"
   ]
  },
  {
   "cell_type": "code",
   "execution_count": null,
   "metadata": {
    "pycharm": {
     "name": "#%%\n"
    },
    "tags": [
     "remove_cell"
    ]
   },
   "outputs": [],
   "source": [
    "input_notebook = Path() / 'get_infos.ipynb'\n",
    "output_python = Path() / 'maua.py'\n"
   ]
  },
  {
   "cell_type": "code",
   "execution_count": null,
   "metadata": {
    "pycharm": {
     "name": "#%%\n"
    },
    "tags": [
     "remove_cell"
    ]
   },
   "outputs": [],
   "source": [
    "# Import the exporter\n",
    "c = Config()\n",
    "c.TagRemovePreprocessor.enabled = True\n",
    "c.ClearOutputPreprocessor.enabled = True\n",
    "c.TemplateExporter.exclude_markdown = True\n",
    "c.TemplateExporter.exclude_code_cell = False\n",
    "c.TemplateExporter.exclude_input_prompt = True\n",
    "c.TemplateExporter.exclude_output = True\n",
    "c.TemplateExporter.exclude_raw = True\n",
    "c.TagRemovePreprocessor.remove_cell_tags = ('remove_cell',)\n",
    "c.TagRemovePreprocessor.remove_input_tags = ('remove_cell',)\n",
    "c.TagRemovePreprocessor.remove_all_outputs_tags = ('remove_output',)\n",
    "c.preprocessors = ['TagRemovePreprocessor']\n",
    "c.PythonExporter.preprocessors = [\n",
    "    'nbconvert.preprocessors.TagRemovePreprocessor']\n",
    "\n",
    "# Configure and run out exporter\n",
    "py_exporter = PythonExporter(config=c)\n",
    "py_exporter.register_preprocessor(TagRemovePreprocessor(config=c), True)\n",
    "\n",
    "# Configure and run out exporter - returns a tuple - first element with html, second with notebook metadata\n",
    "body, metadata = PythonExporter(config=c).from_filename(input_notebook)\n",
    "\n",
    "# Write to output html file\n",
    "with open(output_python,  'w') as f:\n",
    "    f.write(body)\n"
   ]
  },
  {
   "cell_type": "code",
   "execution_count": null,
   "metadata": {
    "pycharm": {
     "name": "#%%\n"
    },
    "tags": [
     "remove_cell"
    ]
   },
   "outputs": [],
   "source": []
  }
 ],
 "metadata": {
  "interpreter": {
   "hash": "2bdda54bf0f28693adab761d90c570fb0a7faa3609b365313c0b5d078440c060"
  },
  "kernelspec": {
   "display_name": "Python 3 (ipykernel)",
   "language": "python",
   "name": "python3"
  },
  "language_info": {
   "codemirror_mode": {
    "name": "ipython",
    "version": 3
   },
   "file_extension": ".py",
   "mimetype": "text/x-python",
   "name": "python",
   "nbconvert_exporter": "python",
   "pygments_lexer": "ipython3",
   "version": "3.9.13"
  }
 },
 "nbformat": 4,
 "nbformat_minor": 4
}
