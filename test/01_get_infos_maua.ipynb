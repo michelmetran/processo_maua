{
 "cells": [
  {
   "cell_type": "markdown",
   "metadata": {
    "tags": [
     "remove_cell"
    ]
   },
   "source": [
    "<br>\n",
    "\n",
    "# Introdução"
   ]
  },
  {
   "cell_type": "code",
   "execution_count": null,
   "metadata": {},
   "outputs": [],
   "source": [
    "import os\n",
    "import time\n",
    "from traquitanas import net\n",
    "from bs4 import BeautifulSoup\n",
    "from dotenv import dotenv_values, find_dotenv"
   ]
  },
  {
   "cell_type": "code",
   "execution_count": null,
   "metadata": {},
   "outputs": [],
   "source": [
    "from selenium.webdriver.common.by import By\n",
    "from selenium.webdriver.support.ui import WebDriverWait\n",
    "from selenium.webdriver.support import expected_conditions as EC"
   ]
  },
  {
   "cell_type": "markdown",
   "metadata": {
    "tags": [
     "remove_cell"
    ]
   },
   "source": [
    "<br>\n",
    "\n",
    "# Functions"
   ]
  },
  {
   "cell_type": "code",
   "execution_count": null,
   "metadata": {},
   "outputs": [],
   "source": [
    "def get_status(processo, ano, cpf):\n",
    "\n",
    "    driver = net.scraping.create_driver(download_path=os.getcwd())\n",
    "    # Get URL\n",
    "    url = 'http://www.maua.sp.gov.br/eGoverno/Processo.aspx'\n",
    "    driver.get(url)\n",
    "    time.sleep(5)\n",
    "    url = 'https://e-gov.maua.sp.gov.br/grp/acessoexterno/programaAcessoExterno.faces?codigo=70043'\n",
    "    driver.get(url)\n",
    "    time.sleep(5)\n",
    "\n",
    "    # Insere Ano\n",
    "    ex_field = WebDriverWait(driver, 5).until(EC.presence_of_element_located(\n",
    "        (By.XPATH, \"//*[@id='form:exercicio:field']\")))\n",
    "    ex_field.send_keys(ano)\n",
    "    time.sleep(1)\n",
    "\n",
    "    # Insere Numero\n",
    "    n_field = WebDriverWait(driver, 5).until(EC.presence_of_element_located(\n",
    "        (By.XPATH, \"//*[@id='form:numero:field']\")))\n",
    "    n_field.send_keys(processo)\n",
    "    time.sleep(1)\n",
    "\n",
    "    # Insere CPF\n",
    "    cpf_field = WebDriverWait(driver, 5).until(EC.presence_of_element_located(\n",
    "        (By.XPATH, \"//*[@id='form:nome:field']\")))\n",
    "    cpf_field.send_keys(cpf)\n",
    "    time.sleep(1)\n",
    "\n",
    "    # Clica para Pesquisar\n",
    "    btn_field = WebDriverWait(driver, 5).until(EC.presence_of_element_located(\n",
    "        (By.XPATH, '//*[@id=\"form:j_id_3u:0:j_id_3y\"]')))\n",
    "    btn_field.click()\n",
    "    time.sleep(5)\n",
    "\n",
    "    # Get HTML\n",
    "    soup = BeautifulSoup(driver.page_source, features='html.parser')\n",
    "\n",
    "    # Get Results\n",
    "    results = soup.find('span', attrs={'id': 'form:resultado'})\n",
    "    results = results.get_text(separator='<b>').split('<b>')\n",
    "\n",
    "    # Fix for Print\n",
    "    for i in results:\n",
    "        print(i.strip())\n",
    "\n",
    "    # Close Driver\n",
    "    driver.quit()\n",
    "    \n",
    "    # Print\n",
    "    print('-'*50)"
   ]
  },
  {
   "cell_type": "markdown",
   "metadata": {
    "tags": [
     "remove_cell"
    ]
   },
   "source": [
    "<br>\n",
    "\n",
    "# Export"
   ]
  },
  {
   "cell_type": "code",
   "execution_count": null,
   "metadata": {
    "tags": [
     "remove_cell"
    ]
   },
   "outputs": [],
   "source": [
    "import os\n",
    "from traitlets.config import Config\n",
    "from nbconvert import PythonExporter\n",
    "from nbconvert.preprocessors import TagRemovePreprocessor"
   ]
  },
  {
   "cell_type": "code",
   "execution_count": null,
   "metadata": {
    "tags": [
     "remove_cell"
    ]
   },
   "outputs": [],
   "source": [
    "input_notebook = os.path.join(os.getcwd(), '01_get_infos_maua.ipynb')\n",
    "output_python = os.path.join(os.getcwd(), 'maua.py')"
   ]
  },
  {
   "cell_type": "code",
   "execution_count": null,
   "metadata": {
    "tags": [
     "remove_cell"
    ]
   },
   "outputs": [],
   "source": [
    "# Import the exporter\n",
    "c = Config()\n",
    "c.TagRemovePreprocessor.enabled=True\n",
    "c.ClearOutputPreprocessor.enabled=True\n",
    "c.TemplateExporter.exclude_markdown=True\n",
    "c.TemplateExporter.exclude_code_cell=False\n",
    "c.TemplateExporter.exclude_input_prompt=True \n",
    "c.TemplateExporter.exclude_output=True\n",
    "c.TemplateExporter.exclude_raw=True\n",
    "c.TagRemovePreprocessor.remove_cell_tags = ('remove_cell',)\n",
    "c.TagRemovePreprocessor.remove_input_tags = ('remove_cell',)\n",
    "c.TagRemovePreprocessor.remove_all_outputs_tags = ('remove_output',)\n",
    "c.preprocessors = ['TagRemovePreprocessor']\n",
    "c.PythonExporter.preprocessors = ['nbconvert.preprocessors.TagRemovePreprocessor']\n",
    "\n",
    "# Configure and run out exporter\n",
    "py_exporter = PythonExporter(config=c)\n",
    "py_exporter.register_preprocessor(TagRemovePreprocessor(config=c), True)\n",
    "\n",
    "# Configure and run out exporter - returns a tuple - first element with html, second with notebook metadata\n",
    "body, metadata = PythonExporter(config=c).from_filename(input_notebook)\n",
    "\n",
    "# Write to output html file\n",
    "with open(output_python,  'w') as f:\n",
    "    f.write(body)"
   ]
  },
  {
   "cell_type": "code",
   "execution_count": null,
   "metadata": {
    "tags": [
     "remove_cell"
    ]
   },
   "outputs": [],
   "source": []
  }
 ],
 "metadata": {
  "interpreter": {
   "hash": "2bdda54bf0f28693adab761d90c570fb0a7faa3609b365313c0b5d078440c060"
  },
  "kernelspec": {
   "display_name": "Python 3 (ipykernel)",
   "language": "python",
   "name": "python3"
  },
  "language_info": {
   "codemirror_mode": {
    "name": "ipython",
    "version": 3
   },
   "file_extension": ".py",
   "mimetype": "text/x-python",
   "name": "python",
   "nbconvert_exporter": "python",
   "pygments_lexer": "ipython3",
   "version": "3.9.12"
  }
 },
 "nbformat": 4,
 "nbformat_minor": 4
}
