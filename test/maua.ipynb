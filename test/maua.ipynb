{
 "cells": [
  {
   "cell_type": "markdown",
   "metadata": {},
   "source": [
    "<br>\n",
    "\n",
    "# Imports"
   ]
  },
  {
   "cell_type": "code",
   "execution_count": null,
   "metadata": {},
   "outputs": [],
   "source": [
    "import os\n",
    "import time\n",
    "from bs4 import BeautifulSoup"
   ]
  },
  {
   "cell_type": "code",
   "execution_count": null,
   "metadata": {},
   "outputs": [],
   "source": [
    "from selenium import webdriver\n",
    "from selenium.webdriver.common.by import By\n",
    "from selenium.webdriver.firefox.options import Options\n",
    "from selenium.webdriver.support.ui import WebDriverWait\n",
    "from selenium.webdriver.support import expected_conditions as EC"
   ]
  },
  {
   "cell_type": "markdown",
   "metadata": {},
   "source": [
    "<br>\n",
    "\n",
    "# Functions"
   ]
  },
  {
   "cell_type": "code",
   "execution_count": null,
   "metadata": {},
   "outputs": [],
   "source": [
    "def create_driver():\n",
    "    # Driver Firefox com Profile\n",
    "    profile = webdriver.FirefoxProfile()\n",
    "    profile.set_preference('intl.accept_languages', 'pt-BR, pt')\n",
    "    profile.update_preferences()\n",
    "\n",
    "    # Driver Firefox com Options\n",
    "    options = Options()\n",
    "    options.headless = True\n",
    "\n",
    "    # Driver\n",
    "    log_path = os.path.join('..', 'logs')\n",
    "    os.makedirs(log_path, exist_ok=True)\n",
    "    driver = webdriver.Firefox(\n",
    "        firefox_profile=profile,\n",
    "        options=options,\n",
    "        service_log_path=os.path.join(log_path, 'geckodriver.log')\n",
    "    )\n",
    "    return driver"
   ]
  },
  {
   "cell_type": "code",
   "execution_count": null,
   "metadata": {},
   "outputs": [],
   "source": [
    "def get_status(processo, ano, cpf):\n",
    "    # Get URL\n",
    "    driver = create_driver()\n",
    "    url = 'http://www.maua.sp.gov.br/eGoverno/Processo.aspx'\n",
    "    driver.get(url)\n",
    "    time.sleep(5)\n",
    "    url = 'https://e-gov.maua.sp.gov.br/grp/acessoexterno/programaAcessoExterno.faces?codigo=70043'\n",
    "    driver.get(url)\n",
    "    time.sleep(5)\n",
    "\n",
    "    # Insere Ano\n",
    "    ex_field = WebDriverWait(driver, 5).until(EC.presence_of_element_located(\n",
    "        (By.XPATH, \"//*[@id='form:exercicio:field']\")))\n",
    "    ex_field.send_keys(ano)\n",
    "    time.sleep(1)\n",
    "\n",
    "    # Insere Numero\n",
    "    n_field = WebDriverWait(driver, 5).until(EC.presence_of_element_located(\n",
    "        (By.XPATH, \"//*[@id='form:numero:field']\")))\n",
    "    n_field.send_keys(processo)\n",
    "    time.sleep(1)\n",
    "\n",
    "    # Insere CPF\n",
    "    cpf_field = WebDriverWait(driver, 5).until(EC.presence_of_element_located(\n",
    "        (By.XPATH, \"//*[@id='form:nome:field']\")))\n",
    "    cpf_field.send_keys(cpf)\n",
    "    time.sleep(1)\n",
    "\n",
    "    # Clica para Pesquisar\n",
    "    btn_field = WebDriverWait(driver, 5).until(EC.presence_of_element_located(\n",
    "        (By.XPATH, \"//*[@id='form:j_id_3p:0:j_id_3t']\")))\n",
    "    btn_field.click()\n",
    "    time.sleep(5)\n",
    "\n",
    "    # Get HTML\n",
    "    soup = BeautifulSoup(driver.page_source, features='html.parser')\n",
    "\n",
    "    # Get Results\n",
    "    results = soup.find('span', attrs={'id': 'form:resultado'})\n",
    "    results = results.get_text(separator='<b>').split('<b>')\n",
    "\n",
    "    # Fix for Print\n",
    "    for i in results:\n",
    "        print(i.strip())\n",
    "\n",
    "    # Close Driver\n",
    "    driver.close()\n",
    "    \n",
    "    # Print\n",
    "    print('-'*50)"
   ]
  },
  {
   "cell_type": "markdown",
   "metadata": {
    "tags": []
   },
   "source": [
    "<br>\n",
    "\n",
    "# Export"
   ]
  },
  {
   "cell_type": "code",
   "execution_count": null,
   "metadata": {
    "tags": [
     "remove_cell"
    ]
   },
   "outputs": [],
   "source": [
    "import os\n",
    "from traitlets.config import Config\n",
    "from nbconvert import PythonExporter\n",
    "from nbconvert.preprocessors import TagRemovePreprocessor"
   ]
  },
  {
   "cell_type": "code",
   "execution_count": null,
   "metadata": {
    "tags": [
     "remove_cell"
    ]
   },
   "outputs": [],
   "source": [
    "filename = 'maua.ipynb'\n",
    "notebook = os.path.join(os.getcwd(), filename)"
   ]
  },
  {
   "cell_type": "code",
   "execution_count": null,
   "metadata": {
    "tags": [
     "remove_cell"
    ]
   },
   "outputs": [],
   "source": [
    "# Import the exporter\n",
    "c = Config()\n",
    "c.TagRemovePreprocessor.enabled=True\n",
    "c.ClearOutputPreprocessor.enabled=True\n",
    "c.TemplateExporter.exclude_markdown=True\n",
    "c.TemplateExporter.exclude_code_cell=False\n",
    "c.TemplateExporter.exclude_input_prompt=True \n",
    "c.TemplateExporter.exclude_output=True\n",
    "c.TemplateExporter.exclude_raw=True\n",
    "c.TagRemovePreprocessor.remove_cell_tags = ('remove_cell',)\n",
    "c.TagRemovePreprocessor.remove_input_tags = ('remove_cell',)\n",
    "c.TagRemovePreprocessor.remove_all_outputs_tags = ('remove_output',)\n",
    "c.preprocessors = ['TagRemovePreprocessor']\n",
    "c.PythonExporter.preprocessors = ['nbconvert.preprocessors.TagRemovePreprocessor']\n",
    "\n",
    "# Configure and run out exporter\n",
    "py_exporter = PythonExporter(config=c)\n",
    "py_exporter.register_preprocessor(TagRemovePreprocessor(config=c), True)\n",
    "\n",
    "# Configure and run out exporter - returns a tuple - first element with html, second with notebook metadata\n",
    "body, metadata = PythonExporter(config=c).from_filename(notebook)\n",
    "\n",
    "# Write to output html file\n",
    "with open(os.path.join('..', 'src', '{}.py'.format(filename.replace('.ipynb', ''))),  'w') as f:\n",
    "    f.write(body)"
   ]
  },
  {
   "cell_type": "code",
   "execution_count": null,
   "metadata": {},
   "outputs": [],
   "source": []
  }
 ],
 "metadata": {
  "kernelspec": {
   "display_name": "Python 3 (ipykernel)",
   "language": "python",
   "name": "python3"
  },
  "language_info": {
   "codemirror_mode": {
    "name": "ipython",
    "version": 3
   },
   "file_extension": ".py",
   "mimetype": "text/x-python",
   "name": "python",
   "nbconvert_exporter": "python",
   "pygments_lexer": "ipython3",
   "version": "3.9.7"
  }
 },
 "nbformat": 4,
 "nbformat_minor": 4
}